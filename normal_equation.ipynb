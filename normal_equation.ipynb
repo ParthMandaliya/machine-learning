{
 "cells": [
  {
   "cell_type": "markdown",
   "id": "f8a15ee4",
   "metadata": {},
   "source": [
    "# Using normal equation we get the best fit possible for linear regression"
   ]
  },
  {
   "cell_type": "code",
   "execution_count": 9,
   "id": "dcf83852",
   "metadata": {},
   "outputs": [],
   "source": [
    "import numpy as np\n",
    "from sklearn.datasets import load_boston\n",
    "from sklearn.model_selection import train_test_split\n",
    "import pandas as pd"
   ]
  },
  {
   "cell_type": "code",
   "execution_count": 10,
   "id": "5f4f6736",
   "metadata": {},
   "outputs": [],
   "source": [
    "class NormalEquation:\n",
    "\n",
    "\tdef __init__(self):\n",
    "\t\tpass\n",
    "\n",
    "\tdef __compute(self, x, y):\n",
    "\t\ttry:\n",
    "\t\t\t'''\n",
    "\t\t\t# multiline code\n",
    "\t\t\tvar = np.dot(x.T,x)\n",
    "\t\t\tvar = np.linalg.inv(var)\n",
    "\t\t\tvar = np.dot(var,x.T)\n",
    "\t\t\tvar = np.dot(var,y)\n",
    "\t\t\tself.__thetas = var\n",
    "\t\t\t'''\n",
    "\t\t\tvar = np.dot(x.T,x)\n",
    "\t\t\tvar = np.linalg.inv(var)\n",
    "\t\t\tvar = np.dot(var,x.T)\n",
    "\t\t\tvar = np.dot(var,y)\n",
    "\t\t\tself.__thetas = var\n",
    "\t\t\t# one line code\n",
    "# \t\t\tself.__thetas = np.dot(np.dot(np.linalg.inv(np.dot(x.T,x)),x.T),y)\n",
    "\t\texcept Exception as e:\n",
    "\t\t\traise e\n",
    "\t\t\n",
    "\tdef fit(self, x, y):\n",
    "\t\tx = np.array(x)\n",
    "\t\tones_ = np.ones(x.shape[0])\n",
    "\t\tx = np.c_[ones_,x]\n",
    "\t\ty = np.array(y)\n",
    "\t\tself.__compute(x,y)\n",
    "\n",
    "\t@property\n",
    "\tdef intercept_(self):\n",
    "\t\treturn self.__thetas[0]\n",
    "\n",
    "\t@property\n",
    "\tdef coef_(self):\n",
    "\t\treturn self.__thetas[1:]\n",
    "    \n",
    "\tdef score(self, x, y):\n",
    "\t\ty_pred = self.predict(x)\n",
    "\t\tu = ((y - y_pred) **2).sum()\n",
    "\t\tv = ((y - y.mean()) **2).sum()\n",
    "\t\treturn (1-(u/v))\n",
    "\n",
    "\tdef predict(self, x):\n",
    "\t\ttry:\n",
    "\t\t\tx = np.array(x)\n",
    "\t\t\tones_ = np.ones(x.shape[0])\n",
    "\t\t\tx = np.c_[ones_,x]\n",
    "\t\t\tresult = np.dot(x,self.__thetas)\n",
    "\t\t\treturn result\t\t\t\n",
    "\t\texcept Exception as e:\n",
    "\t\t\traise e"
   ]
  },
  {
   "cell_type": "code",
   "execution_count": 11,
   "id": "7edc422c",
   "metadata": {},
   "outputs": [],
   "source": [
    "dataset = load_boston()"
   ]
  },
  {
   "cell_type": "markdown",
   "id": "26625f0d",
   "metadata": {},
   "source": [
    "## Using multiple features from data"
   ]
  },
  {
   "cell_type": "code",
   "execution_count": 19,
   "id": "e01a92e7",
   "metadata": {},
   "outputs": [],
   "source": [
    "data = pd.DataFrame(dataset.data)\n",
    "data.columns = dataset.feature_names\n",
    "\n",
    "y = pd.DataFrame(dataset.target)\n",
    "y.columns=[\"MedHouseVal\"] \n",
    "y.head()\n",
    "\n",
    "X_train, X_test, y_train, y_test = train_test_split(data, y, test_size=0.2, random_state=20)"
   ]
  },
  {
   "cell_type": "code",
   "execution_count": 20,
   "id": "55363de8",
   "metadata": {},
   "outputs": [
    {
     "data": {
      "text/html": [
       "<div>\n",
       "<style scoped>\n",
       "    .dataframe tbody tr th:only-of-type {\n",
       "        vertical-align: middle;\n",
       "    }\n",
       "\n",
       "    .dataframe tbody tr th {\n",
       "        vertical-align: top;\n",
       "    }\n",
       "\n",
       "    .dataframe thead th {\n",
       "        text-align: right;\n",
       "    }\n",
       "</style>\n",
       "<table border=\"1\" class=\"dataframe\">\n",
       "  <thead>\n",
       "    <tr style=\"text-align: right;\">\n",
       "      <th></th>\n",
       "      <th>CRIM</th>\n",
       "      <th>ZN</th>\n",
       "      <th>INDUS</th>\n",
       "      <th>CHAS</th>\n",
       "      <th>NOX</th>\n",
       "      <th>RM</th>\n",
       "      <th>AGE</th>\n",
       "      <th>DIS</th>\n",
       "      <th>RAD</th>\n",
       "      <th>TAX</th>\n",
       "      <th>PTRATIO</th>\n",
       "      <th>B</th>\n",
       "      <th>LSTAT</th>\n",
       "    </tr>\n",
       "  </thead>\n",
       "  <tbody>\n",
       "    <tr>\n",
       "      <th>25</th>\n",
       "      <td>0.84054</td>\n",
       "      <td>0.0</td>\n",
       "      <td>8.14</td>\n",
       "      <td>0.0</td>\n",
       "      <td>0.538</td>\n",
       "      <td>5.599</td>\n",
       "      <td>85.7</td>\n",
       "      <td>4.4546</td>\n",
       "      <td>4.0</td>\n",
       "      <td>307.0</td>\n",
       "      <td>21.0</td>\n",
       "      <td>303.42</td>\n",
       "      <td>16.51</td>\n",
       "    </tr>\n",
       "    <tr>\n",
       "      <th>417</th>\n",
       "      <td>25.94060</td>\n",
       "      <td>0.0</td>\n",
       "      <td>18.10</td>\n",
       "      <td>0.0</td>\n",
       "      <td>0.679</td>\n",
       "      <td>5.304</td>\n",
       "      <td>89.1</td>\n",
       "      <td>1.6475</td>\n",
       "      <td>24.0</td>\n",
       "      <td>666.0</td>\n",
       "      <td>20.2</td>\n",
       "      <td>127.36</td>\n",
       "      <td>26.64</td>\n",
       "    </tr>\n",
       "    <tr>\n",
       "      <th>481</th>\n",
       "      <td>5.70818</td>\n",
       "      <td>0.0</td>\n",
       "      <td>18.10</td>\n",
       "      <td>0.0</td>\n",
       "      <td>0.532</td>\n",
       "      <td>6.750</td>\n",
       "      <td>74.9</td>\n",
       "      <td>3.3317</td>\n",
       "      <td>24.0</td>\n",
       "      <td>666.0</td>\n",
       "      <td>20.2</td>\n",
       "      <td>393.07</td>\n",
       "      <td>7.74</td>\n",
       "    </tr>\n",
       "    <tr>\n",
       "      <th>490</th>\n",
       "      <td>0.20746</td>\n",
       "      <td>0.0</td>\n",
       "      <td>27.74</td>\n",
       "      <td>0.0</td>\n",
       "      <td>0.609</td>\n",
       "      <td>5.093</td>\n",
       "      <td>98.0</td>\n",
       "      <td>1.8226</td>\n",
       "      <td>4.0</td>\n",
       "      <td>711.0</td>\n",
       "      <td>20.1</td>\n",
       "      <td>318.43</td>\n",
       "      <td>29.68</td>\n",
       "    </tr>\n",
       "    <tr>\n",
       "      <th>41</th>\n",
       "      <td>0.12744</td>\n",
       "      <td>0.0</td>\n",
       "      <td>6.91</td>\n",
       "      <td>0.0</td>\n",
       "      <td>0.448</td>\n",
       "      <td>6.770</td>\n",
       "      <td>2.9</td>\n",
       "      <td>5.7209</td>\n",
       "      <td>3.0</td>\n",
       "      <td>233.0</td>\n",
       "      <td>17.9</td>\n",
       "      <td>385.41</td>\n",
       "      <td>4.84</td>\n",
       "    </tr>\n",
       "  </tbody>\n",
       "</table>\n",
       "</div>"
      ],
      "text/plain": [
       "         CRIM   ZN  INDUS  CHAS    NOX     RM   AGE     DIS   RAD    TAX  \\\n",
       "25    0.84054  0.0   8.14   0.0  0.538  5.599  85.7  4.4546   4.0  307.0   \n",
       "417  25.94060  0.0  18.10   0.0  0.679  5.304  89.1  1.6475  24.0  666.0   \n",
       "481   5.70818  0.0  18.10   0.0  0.532  6.750  74.9  3.3317  24.0  666.0   \n",
       "490   0.20746  0.0  27.74   0.0  0.609  5.093  98.0  1.8226   4.0  711.0   \n",
       "41    0.12744  0.0   6.91   0.0  0.448  6.770   2.9  5.7209   3.0  233.0   \n",
       "\n",
       "     PTRATIO       B  LSTAT  \n",
       "25      21.0  303.42  16.51  \n",
       "417     20.2  127.36  26.64  \n",
       "481     20.2  393.07   7.74  \n",
       "490     20.1  318.43  29.68  \n",
       "41      17.9  385.41   4.84  "
      ]
     },
     "execution_count": 20,
     "metadata": {},
     "output_type": "execute_result"
    }
   ],
   "source": [
    "X_train.head()"
   ]
  },
  {
   "cell_type": "code",
   "execution_count": 21,
   "id": "0046e2c9",
   "metadata": {},
   "outputs": [
    {
     "data": {
      "text/html": [
       "<div>\n",
       "<style scoped>\n",
       "    .dataframe tbody tr th:only-of-type {\n",
       "        vertical-align: middle;\n",
       "    }\n",
       "\n",
       "    .dataframe tbody tr th {\n",
       "        vertical-align: top;\n",
       "    }\n",
       "\n",
       "    .dataframe thead th {\n",
       "        text-align: right;\n",
       "    }\n",
       "</style>\n",
       "<table border=\"1\" class=\"dataframe\">\n",
       "  <thead>\n",
       "    <tr style=\"text-align: right;\">\n",
       "      <th></th>\n",
       "      <th>MedHouseVal</th>\n",
       "    </tr>\n",
       "  </thead>\n",
       "  <tbody>\n",
       "    <tr>\n",
       "      <th>25</th>\n",
       "      <td>13.9</td>\n",
       "    </tr>\n",
       "    <tr>\n",
       "      <th>417</th>\n",
       "      <td>10.4</td>\n",
       "    </tr>\n",
       "    <tr>\n",
       "      <th>481</th>\n",
       "      <td>23.7</td>\n",
       "    </tr>\n",
       "    <tr>\n",
       "      <th>490</th>\n",
       "      <td>8.1</td>\n",
       "    </tr>\n",
       "    <tr>\n",
       "      <th>41</th>\n",
       "      <td>26.6</td>\n",
       "    </tr>\n",
       "  </tbody>\n",
       "</table>\n",
       "</div>"
      ],
      "text/plain": [
       "     MedHouseVal\n",
       "25          13.9\n",
       "417         10.4\n",
       "481         23.7\n",
       "490          8.1\n",
       "41          26.6"
      ]
     },
     "execution_count": 21,
     "metadata": {},
     "output_type": "execute_result"
    }
   ],
   "source": [
    "y_train.head()"
   ]
  },
  {
   "cell_type": "code",
   "execution_count": 22,
   "id": "3e567275",
   "metadata": {},
   "outputs": [],
   "source": [
    "ne = NormalEquation()\n",
    "ne.fit(X_train.to_numpy(), y_train.to_numpy())"
   ]
  },
  {
   "cell_type": "code",
   "execution_count": 23,
   "id": "85bd2618",
   "metadata": {},
   "outputs": [
    {
     "name": "stdout",
     "output_type": "stream",
     "text": [
      "Training score: 0.7578066186611594\n",
      "Testing score: 0.6320114106481143\n",
      "Theta: [[-1.22826003e-01]\n",
      " [ 5.69576378e-02]\n",
      " [ 1.42306987e-02]\n",
      " [ 3.65459810e+00]\n",
      " [-1.71716027e+01]\n",
      " [ 4.12120504e+00]\n",
      " [-7.72211020e-03]\n",
      " [-1.60147347e+00]\n",
      " [ 3.07421074e-01]\n",
      " [-1.26919635e-02]\n",
      " [-9.34046199e-01]\n",
      " [ 9.37551700e-03]\n",
      " [-4.83921135e-01]]\n",
      "Y-intercept: [34.3698595]\n"
     ]
    }
   ],
   "source": [
    "print (\"Training score:\", ne.score(X_train.to_numpy(), y_train.to_numpy()))\n",
    "print (\"Testing score:\", ne.score(X_test.to_numpy(), y_test.to_numpy()))\n",
    "print(\"Theta:\", ne.coef_)\n",
    "print(\"Y-intercept:\", ne.intercept_)"
   ]
  },
  {
   "cell_type": "markdown",
   "id": "4f1b45de",
   "metadata": {},
   "source": [
    "## Now let's try using single feature from data"
   ]
  },
  {
   "cell_type": "code",
   "execution_count": 25,
   "id": "ec10cd07",
   "metadata": {},
   "outputs": [],
   "source": [
    "X_train, X_test, y_train, y_test = X_train[[\"AGE\"]], X_test[[\"AGE\"]], y_train, y_test"
   ]
  },
  {
   "cell_type": "code",
   "execution_count": 26,
   "id": "3260e5dd",
   "metadata": {},
   "outputs": [],
   "source": [
    "ne = NormalEquation()\n",
    "ne.fit(X_train.to_numpy(), y_train.to_numpy())"
   ]
  },
  {
   "cell_type": "code",
   "execution_count": 27,
   "id": "c553eaf8",
   "metadata": {},
   "outputs": [
    {
     "name": "stdout",
     "output_type": "stream",
     "text": [
      "Training score: 0.14955158357988507\n",
      "Testing score: 0.08964841644476407\n",
      "Theta: [[-0.12914935]]\n",
      "Y-intercept: [31.46450648]\n"
     ]
    }
   ],
   "source": [
    "print (\"Training score:\", ne.score(X_train.to_numpy(), y_train.to_numpy()))\n",
    "print (\"Testing score:\", ne.score(X_test.to_numpy(), y_test.to_numpy()))\n",
    "print(\"Theta:\", ne.coef_)\n",
    "print(\"Y-intercept:\", ne.intercept_)"
   ]
  }
 ],
 "metadata": {
  "kernelspec": {
   "display_name": "Python 3 (ipykernel)",
   "language": "python",
   "name": "python3"
  },
  "language_info": {
   "codemirror_mode": {
    "name": "ipython",
    "version": 3
   },
   "file_extension": ".py",
   "mimetype": "text/x-python",
   "name": "python",
   "nbconvert_exporter": "python",
   "pygments_lexer": "ipython3",
   "version": "3.9.7"
  }
 },
 "nbformat": 4,
 "nbformat_minor": 5
}
