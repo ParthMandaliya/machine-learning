{
 "cells": [
  {
   "cell_type": "markdown",
   "id": "f8a15ee4",
   "metadata": {},
   "source": [
    "# Using normal equation we get the best fit possible for linear regression"
   ]
  },
  {
   "cell_type": "code",
   "execution_count": 1,
   "id": "dcf83852",
   "metadata": {},
   "outputs": [],
   "source": [
    "import numpy as np\n",
    "from sklearn.datasets import load_boston\n",
    "from sklearn.model_selection import train_test_split\n",
    "import pandas as pd\n",
    "from normal_equation import NormalEquation"
   ]
  },
  {
   "cell_type": "code",
   "execution_count": 2,
   "id": "3fd3c535",
   "metadata": {},
   "outputs": [],
   "source": [
    "dataset = load_boston()"
   ]
  },
  {
   "cell_type": "markdown",
   "id": "f3b2913e",
   "metadata": {},
   "source": [
    "## Using multiple features from data"
   ]
  },
  {
   "cell_type": "code",
   "execution_count": 3,
   "id": "e01a92e7",
   "metadata": {},
   "outputs": [],
   "source": [
    "data = pd.DataFrame(dataset.data)\n",
    "data.columns = dataset.feature_names\n",
    "\n",
    "y = pd.DataFrame(dataset.target)\n",
    "y.columns=[\"MedHouseVal\"] \n",
    "y.head()\n",
    "\n",
    "X_train, X_test, y_train, y_test = train_test_split(data, y, test_size=0.2, random_state=20)"
   ]
  },
  {
   "cell_type": "code",
   "execution_count": 4,
   "id": "3e567275",
   "metadata": {},
   "outputs": [],
   "source": [
    "ne = NormalEquation() # To add regularization, add lambda parameter value here\n",
    "ne.fit(X_train.to_numpy(), y_train.to_numpy())"
   ]
  },
  {
   "cell_type": "code",
   "execution_count": 5,
   "id": "85bd2618",
   "metadata": {},
   "outputs": [
    {
     "name": "stdout",
     "output_type": "stream",
     "text": [
      "Training score: 0.7360198858245186\n",
      "Testing score: 0.7438826183113376\n",
      "Theta: [[-6.99238421e-02]\n",
      " [ 4.08478370e-02]\n",
      " [ 4.69344473e-02]\n",
      " [ 2.94877232e+00]\n",
      " [-2.12030473e+01]\n",
      " [ 3.75149147e+00]\n",
      " [ 1.86497729e-02]\n",
      " [-1.33522845e+00]\n",
      " [ 2.71771943e-01]\n",
      " [-1.12289557e-02]\n",
      " [-9.01973881e-01]\n",
      " [ 9.09628104e-03]\n",
      " [-5.66286361e-01]]\n",
      "Y-intercept: [36.22515161]\n"
     ]
    }
   ],
   "source": [
    "print (\"Training score:\", ne.score(X_train.to_numpy(), y_train.to_numpy()))\n",
    "print (\"Testing score:\", ne.score(X_test.to_numpy(), y_test.to_numpy()))\n",
    "print(\"Theta:\", ne.coef_)\n",
    "print(\"Y-intercept:\", ne.intercept_)"
   ]
  },
  {
   "cell_type": "markdown",
   "id": "f3111dcd",
   "metadata": {},
   "source": [
    "## Now let's try using single feature from data"
   ]
  },
  {
   "cell_type": "code",
   "execution_count": 6,
   "id": "d01733da",
   "metadata": {},
   "outputs": [],
   "source": [
    "X_train, X_test, y_train, y_test = X_train[[\"AGE\"]], X_test[[\"AGE\"]], y_train, y_test"
   ]
  },
  {
   "cell_type": "code",
   "execution_count": 7,
   "id": "c7f7b76b",
   "metadata": {},
   "outputs": [],
   "source": [
    "ne = NormalEquation() # To add regularization, add lambda parameter value here\n",
    "ne.fit(X_train.to_numpy(), y_train.to_numpy())"
   ]
  },
  {
   "cell_type": "code",
   "execution_count": 8,
   "id": "ee76154d",
   "metadata": {},
   "outputs": [
    {
     "name": "stdout",
     "output_type": "stream",
     "text": [
      "Training score: 0.1271646596911491\n",
      "Testing score: 0.2055742506309869\n",
      "Theta: [[-0.11630363]]\n",
      "Y-intercept: [30.65334717]\n"
     ]
    }
   ],
   "source": [
    "print (\"Training score:\", ne.score(X_train.to_numpy(), y_train.to_numpy()))\n",
    "print (\"Testing score:\", ne.score(X_test.to_numpy(), y_test.to_numpy()))\n",
    "print(\"Theta:\", ne.coef_)\n",
    "print(\"Y-intercept:\", ne.intercept_)"
   ]
  }
 ],
 "metadata": {
  "kernelspec": {
   "display_name": "Python 3 (ipykernel)",
   "language": "python",
   "name": "python3"
  },
  "language_info": {
   "codemirror_mode": {
    "name": "ipython",
    "version": 3
   },
   "file_extension": ".py",
   "mimetype": "text/x-python",
   "name": "python",
   "nbconvert_exporter": "python",
   "pygments_lexer": "ipython3",
   "version": "3.9.7"
  }
 },
 "nbformat": 4,
 "nbformat_minor": 5
}
