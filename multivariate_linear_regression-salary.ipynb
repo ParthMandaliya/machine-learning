{
 "cells": [
  {
   "cell_type": "code",
   "execution_count": 1,
   "id": "a4bf4c8f",
   "metadata": {
    "scrolled": true
   },
   "outputs": [
    {
     "name": "stdout",
     "output_type": "stream",
     "text": [
      "Requirement already satisfied: pandas in /home/parth/anaconda3/lib/python3.9/site-packages (from -r requirements.txt (line 1)) (1.3.5)\n",
      "Requirement already satisfied: numpy in /home/parth/anaconda3/lib/python3.9/site-packages (from -r requirements.txt (line 2)) (1.21.5)\n",
      "Requirement already satisfied: sklearn in /home/parth/anaconda3/lib/python3.9/site-packages (from -r requirements.txt (line 3)) (0.0)\n",
      "Requirement already satisfied: matplotlib in /home/parth/anaconda3/lib/python3.9/site-packages (from -r requirements.txt (line 4)) (3.5.1)\n",
      "Requirement already satisfied: word2number in /home/parth/anaconda3/lib/python3.9/site-packages (from -r requirements.txt (line 5)) (1.1)\n",
      "Requirement already satisfied: pytz>=2017.3 in /home/parth/anaconda3/lib/python3.9/site-packages (from pandas->-r requirements.txt (line 1)) (2021.3)\n",
      "Requirement already satisfied: python-dateutil>=2.7.3 in /home/parth/anaconda3/lib/python3.9/site-packages (from pandas->-r requirements.txt (line 1)) (2.8.2)\n",
      "Requirement already satisfied: scikit-learn in /home/parth/anaconda3/lib/python3.9/site-packages (from sklearn->-r requirements.txt (line 3)) (0.24.2)\n",
      "Requirement already satisfied: packaging>=20.0 in /home/parth/anaconda3/lib/python3.9/site-packages (from matplotlib->-r requirements.txt (line 4)) (21.0)\n",
      "Requirement already satisfied: cycler>=0.10 in /home/parth/anaconda3/lib/python3.9/site-packages (from matplotlib->-r requirements.txt (line 4)) (0.10.0)\n",
      "Requirement already satisfied: kiwisolver>=1.0.1 in /home/parth/anaconda3/lib/python3.9/site-packages (from matplotlib->-r requirements.txt (line 4)) (1.3.1)\n",
      "Requirement already satisfied: pyparsing>=2.2.1 in /home/parth/anaconda3/lib/python3.9/site-packages (from matplotlib->-r requirements.txt (line 4)) (3.0.4)\n",
      "Requirement already satisfied: fonttools>=4.22.0 in /home/parth/anaconda3/lib/python3.9/site-packages (from matplotlib->-r requirements.txt (line 4)) (4.25.0)\n",
      "Requirement already satisfied: pillow>=6.2.0 in /home/parth/anaconda3/lib/python3.9/site-packages (from matplotlib->-r requirements.txt (line 4)) (8.4.0)\n",
      "Requirement already satisfied: six in /home/parth/anaconda3/lib/python3.9/site-packages (from cycler>=0.10->matplotlib->-r requirements.txt (line 4)) (1.16.0)\n",
      "Requirement already satisfied: scipy>=0.19.1 in /home/parth/anaconda3/lib/python3.9/site-packages (from scikit-learn->sklearn->-r requirements.txt (line 3)) (1.7.1)\n",
      "Requirement already satisfied: threadpoolctl>=2.0.0 in /home/parth/anaconda3/lib/python3.9/site-packages (from scikit-learn->sklearn->-r requirements.txt (line 3)) (2.2.0)\n",
      "Requirement already satisfied: joblib>=0.11 in /home/parth/anaconda3/lib/python3.9/site-packages (from scikit-learn->sklearn->-r requirements.txt (line 3)) (1.1.0)\n"
     ]
    }
   ],
   "source": [
    "!python3 -m pip install --upgrade -r requirements.txt"
   ]
  },
  {
   "cell_type": "code",
   "execution_count": 2,
   "id": "2408b2e3",
   "metadata": {},
   "outputs": [],
   "source": [
    "import pandas as pd\n",
    "import numpy as np\n",
    "from sklearn.linear_model import LinearRegression\n",
    "import matplotlib.pyplot as plt\n",
    "from word2number import w2n\n",
    "import math"
   ]
  },
  {
   "cell_type": "markdown",
   "id": "e497b408",
   "metadata": {},
   "source": [
    "## Reading hiring.csv file and settings custom column names to dataframe"
   ]
  },
  {
   "cell_type": "code",
   "execution_count": 3,
   "id": "8eb5a27f",
   "metadata": {},
   "outputs": [
    {
     "data": {
      "text/html": [
       "<div>\n",
       "<style scoped>\n",
       "    .dataframe tbody tr th:only-of-type {\n",
       "        vertical-align: middle;\n",
       "    }\n",
       "\n",
       "    .dataframe tbody tr th {\n",
       "        vertical-align: top;\n",
       "    }\n",
       "\n",
       "    .dataframe thead th {\n",
       "        text-align: right;\n",
       "    }\n",
       "</style>\n",
       "<table border=\"1\" class=\"dataframe\">\n",
       "  <thead>\n",
       "    <tr style=\"text-align: right;\">\n",
       "      <th></th>\n",
       "      <th>experience</th>\n",
       "      <th>test_scores</th>\n",
       "      <th>interview_score</th>\n",
       "      <th>salary</th>\n",
       "    </tr>\n",
       "  </thead>\n",
       "  <tbody>\n",
       "    <tr>\n",
       "      <th>0</th>\n",
       "      <td>NaN</td>\n",
       "      <td>8.0</td>\n",
       "      <td>9</td>\n",
       "      <td>50000</td>\n",
       "    </tr>\n",
       "    <tr>\n",
       "      <th>1</th>\n",
       "      <td>NaN</td>\n",
       "      <td>8.0</td>\n",
       "      <td>6</td>\n",
       "      <td>45000</td>\n",
       "    </tr>\n",
       "    <tr>\n",
       "      <th>2</th>\n",
       "      <td>five</td>\n",
       "      <td>6.0</td>\n",
       "      <td>7</td>\n",
       "      <td>60000</td>\n",
       "    </tr>\n",
       "    <tr>\n",
       "      <th>3</th>\n",
       "      <td>two</td>\n",
       "      <td>10.0</td>\n",
       "      <td>10</td>\n",
       "      <td>65000</td>\n",
       "    </tr>\n",
       "    <tr>\n",
       "      <th>4</th>\n",
       "      <td>seven</td>\n",
       "      <td>9.0</td>\n",
       "      <td>6</td>\n",
       "      <td>70000</td>\n",
       "    </tr>\n",
       "  </tbody>\n",
       "</table>\n",
       "</div>"
      ],
      "text/plain": [
       "  experience  test_scores  interview_score  salary\n",
       "0        NaN          8.0                9   50000\n",
       "1        NaN          8.0                6   45000\n",
       "2       five          6.0                7   60000\n",
       "3        two         10.0               10   65000\n",
       "4      seven          9.0                6   70000"
      ]
     },
     "execution_count": 3,
     "metadata": {},
     "output_type": "execute_result"
    }
   ],
   "source": [
    "data = pd.read_csv('hiring.csv')\n",
    "data.columns = [\"experience\", \"test_scores\", \"interview_score\", \"salary\"]\n",
    "data.head()"
   ]
  },
  {
   "cell_type": "markdown",
   "id": "481fc793",
   "metadata": {},
   "source": [
    "## Use the following line of code to substitute empty values in experience column with it's mean\n",
    "`data.experience = data.experience.fillna( math.floor( data.experience.mean() ) )`\n",
    "## Here we are settings to zero"
   ]
  },
  {
   "cell_type": "code",
   "execution_count": 4,
   "id": "e4054842",
   "metadata": {},
   "outputs": [
    {
     "data": {
      "text/html": [
       "<div>\n",
       "<style scoped>\n",
       "    .dataframe tbody tr th:only-of-type {\n",
       "        vertical-align: middle;\n",
       "    }\n",
       "\n",
       "    .dataframe tbody tr th {\n",
       "        vertical-align: top;\n",
       "    }\n",
       "\n",
       "    .dataframe thead th {\n",
       "        text-align: right;\n",
       "    }\n",
       "</style>\n",
       "<table border=\"1\" class=\"dataframe\">\n",
       "  <thead>\n",
       "    <tr style=\"text-align: right;\">\n",
       "      <th></th>\n",
       "      <th>experience</th>\n",
       "      <th>test_scores</th>\n",
       "      <th>interview_score</th>\n",
       "      <th>salary</th>\n",
       "    </tr>\n",
       "  </thead>\n",
       "  <tbody>\n",
       "    <tr>\n",
       "      <th>0</th>\n",
       "      <td>zero</td>\n",
       "      <td>8.0</td>\n",
       "      <td>9</td>\n",
       "      <td>50000</td>\n",
       "    </tr>\n",
       "    <tr>\n",
       "      <th>1</th>\n",
       "      <td>zero</td>\n",
       "      <td>8.0</td>\n",
       "      <td>6</td>\n",
       "      <td>45000</td>\n",
       "    </tr>\n",
       "    <tr>\n",
       "      <th>2</th>\n",
       "      <td>five</td>\n",
       "      <td>6.0</td>\n",
       "      <td>7</td>\n",
       "      <td>60000</td>\n",
       "    </tr>\n",
       "    <tr>\n",
       "      <th>3</th>\n",
       "      <td>two</td>\n",
       "      <td>10.0</td>\n",
       "      <td>10</td>\n",
       "      <td>65000</td>\n",
       "    </tr>\n",
       "    <tr>\n",
       "      <th>4</th>\n",
       "      <td>seven</td>\n",
       "      <td>9.0</td>\n",
       "      <td>6</td>\n",
       "      <td>70000</td>\n",
       "    </tr>\n",
       "    <tr>\n",
       "      <th>5</th>\n",
       "      <td>three</td>\n",
       "      <td>7.0</td>\n",
       "      <td>10</td>\n",
       "      <td>62000</td>\n",
       "    </tr>\n",
       "    <tr>\n",
       "      <th>6</th>\n",
       "      <td>ten</td>\n",
       "      <td>NaN</td>\n",
       "      <td>7</td>\n",
       "      <td>72000</td>\n",
       "    </tr>\n",
       "    <tr>\n",
       "      <th>7</th>\n",
       "      <td>eleven</td>\n",
       "      <td>7.0</td>\n",
       "      <td>8</td>\n",
       "      <td>80000</td>\n",
       "    </tr>\n",
       "  </tbody>\n",
       "</table>\n",
       "</div>"
      ],
      "text/plain": [
       "  experience  test_scores  interview_score  salary\n",
       "0       zero          8.0                9   50000\n",
       "1       zero          8.0                6   45000\n",
       "2       five          6.0                7   60000\n",
       "3        two         10.0               10   65000\n",
       "4      seven          9.0                6   70000\n",
       "5      three          7.0               10   62000\n",
       "6        ten          NaN                7   72000\n",
       "7     eleven          7.0                8   80000"
      ]
     },
     "execution_count": 4,
     "metadata": {},
     "output_type": "execute_result"
    }
   ],
   "source": [
    "data.experience = data.experience.fillna('zero')\n",
    "data"
   ]
  },
  {
   "cell_type": "markdown",
   "id": "a9a7d424",
   "metadata": {},
   "source": [
    "## Replacing string representation of number in experience column with integers"
   ]
  },
  {
   "cell_type": "code",
   "execution_count": 5,
   "id": "2fa1c991",
   "metadata": {
    "scrolled": true
   },
   "outputs": [
    {
     "data": {
      "text/html": [
       "<div>\n",
       "<style scoped>\n",
       "    .dataframe tbody tr th:only-of-type {\n",
       "        vertical-align: middle;\n",
       "    }\n",
       "\n",
       "    .dataframe tbody tr th {\n",
       "        vertical-align: top;\n",
       "    }\n",
       "\n",
       "    .dataframe thead th {\n",
       "        text-align: right;\n",
       "    }\n",
       "</style>\n",
       "<table border=\"1\" class=\"dataframe\">\n",
       "  <thead>\n",
       "    <tr style=\"text-align: right;\">\n",
       "      <th></th>\n",
       "      <th>experience</th>\n",
       "      <th>test_scores</th>\n",
       "      <th>interview_score</th>\n",
       "      <th>salary</th>\n",
       "    </tr>\n",
       "  </thead>\n",
       "  <tbody>\n",
       "    <tr>\n",
       "      <th>0</th>\n",
       "      <td>0</td>\n",
       "      <td>8.0</td>\n",
       "      <td>9</td>\n",
       "      <td>50000</td>\n",
       "    </tr>\n",
       "    <tr>\n",
       "      <th>1</th>\n",
       "      <td>0</td>\n",
       "      <td>8.0</td>\n",
       "      <td>6</td>\n",
       "      <td>45000</td>\n",
       "    </tr>\n",
       "    <tr>\n",
       "      <th>2</th>\n",
       "      <td>5</td>\n",
       "      <td>6.0</td>\n",
       "      <td>7</td>\n",
       "      <td>60000</td>\n",
       "    </tr>\n",
       "    <tr>\n",
       "      <th>3</th>\n",
       "      <td>2</td>\n",
       "      <td>10.0</td>\n",
       "      <td>10</td>\n",
       "      <td>65000</td>\n",
       "    </tr>\n",
       "    <tr>\n",
       "      <th>4</th>\n",
       "      <td>7</td>\n",
       "      <td>9.0</td>\n",
       "      <td>6</td>\n",
       "      <td>70000</td>\n",
       "    </tr>\n",
       "    <tr>\n",
       "      <th>5</th>\n",
       "      <td>3</td>\n",
       "      <td>7.0</td>\n",
       "      <td>10</td>\n",
       "      <td>62000</td>\n",
       "    </tr>\n",
       "    <tr>\n",
       "      <th>6</th>\n",
       "      <td>10</td>\n",
       "      <td>NaN</td>\n",
       "      <td>7</td>\n",
       "      <td>72000</td>\n",
       "    </tr>\n",
       "    <tr>\n",
       "      <th>7</th>\n",
       "      <td>11</td>\n",
       "      <td>7.0</td>\n",
       "      <td>8</td>\n",
       "      <td>80000</td>\n",
       "    </tr>\n",
       "  </tbody>\n",
       "</table>\n",
       "</div>"
      ],
      "text/plain": [
       "   experience  test_scores  interview_score  salary\n",
       "0           0          8.0                9   50000\n",
       "1           0          8.0                6   45000\n",
       "2           5          6.0                7   60000\n",
       "3           2         10.0               10   65000\n",
       "4           7          9.0                6   70000\n",
       "5           3          7.0               10   62000\n",
       "6          10          NaN                7   72000\n",
       "7          11          7.0                8   80000"
      ]
     },
     "execution_count": 5,
     "metadata": {},
     "output_type": "execute_result"
    }
   ],
   "source": [
    "data.experience = data.experience.map(w2n.word_to_num, na_action='ignore')\n",
    "data"
   ]
  },
  {
   "cell_type": "markdown",
   "id": "a1cf5590",
   "metadata": {},
   "source": [
    "## Replacing NaN values in test score column with column's mean value"
   ]
  },
  {
   "cell_type": "code",
   "execution_count": 6,
   "id": "90db9f08",
   "metadata": {},
   "outputs": [
    {
     "data": {
      "text/html": [
       "<div>\n",
       "<style scoped>\n",
       "    .dataframe tbody tr th:only-of-type {\n",
       "        vertical-align: middle;\n",
       "    }\n",
       "\n",
       "    .dataframe tbody tr th {\n",
       "        vertical-align: top;\n",
       "    }\n",
       "\n",
       "    .dataframe thead th {\n",
       "        text-align: right;\n",
       "    }\n",
       "</style>\n",
       "<table border=\"1\" class=\"dataframe\">\n",
       "  <thead>\n",
       "    <tr style=\"text-align: right;\">\n",
       "      <th></th>\n",
       "      <th>experience</th>\n",
       "      <th>test_scores</th>\n",
       "      <th>interview_score</th>\n",
       "      <th>salary</th>\n",
       "    </tr>\n",
       "  </thead>\n",
       "  <tbody>\n",
       "    <tr>\n",
       "      <th>0</th>\n",
       "      <td>0</td>\n",
       "      <td>8.0</td>\n",
       "      <td>9</td>\n",
       "      <td>50000</td>\n",
       "    </tr>\n",
       "    <tr>\n",
       "      <th>1</th>\n",
       "      <td>0</td>\n",
       "      <td>8.0</td>\n",
       "      <td>6</td>\n",
       "      <td>45000</td>\n",
       "    </tr>\n",
       "    <tr>\n",
       "      <th>2</th>\n",
       "      <td>5</td>\n",
       "      <td>6.0</td>\n",
       "      <td>7</td>\n",
       "      <td>60000</td>\n",
       "    </tr>\n",
       "    <tr>\n",
       "      <th>3</th>\n",
       "      <td>2</td>\n",
       "      <td>10.0</td>\n",
       "      <td>10</td>\n",
       "      <td>65000</td>\n",
       "    </tr>\n",
       "    <tr>\n",
       "      <th>4</th>\n",
       "      <td>7</td>\n",
       "      <td>9.0</td>\n",
       "      <td>6</td>\n",
       "      <td>70000</td>\n",
       "    </tr>\n",
       "    <tr>\n",
       "      <th>5</th>\n",
       "      <td>3</td>\n",
       "      <td>7.0</td>\n",
       "      <td>10</td>\n",
       "      <td>62000</td>\n",
       "    </tr>\n",
       "    <tr>\n",
       "      <th>6</th>\n",
       "      <td>10</td>\n",
       "      <td>7.0</td>\n",
       "      <td>7</td>\n",
       "      <td>72000</td>\n",
       "    </tr>\n",
       "    <tr>\n",
       "      <th>7</th>\n",
       "      <td>11</td>\n",
       "      <td>7.0</td>\n",
       "      <td>8</td>\n",
       "      <td>80000</td>\n",
       "    </tr>\n",
       "  </tbody>\n",
       "</table>\n",
       "</div>"
      ],
      "text/plain": [
       "   experience  test_scores  interview_score  salary\n",
       "0           0          8.0                9   50000\n",
       "1           0          8.0                6   45000\n",
       "2           5          6.0                7   60000\n",
       "3           2         10.0               10   65000\n",
       "4           7          9.0                6   70000\n",
       "5           3          7.0               10   62000\n",
       "6          10          7.0                7   72000\n",
       "7          11          7.0                8   80000"
      ]
     },
     "execution_count": 6,
     "metadata": {},
     "output_type": "execute_result"
    }
   ],
   "source": [
    "data.test_scores = data.test_scores.fillna( math.floor( data.test_scores.mean() ) )\n",
    "data"
   ]
  },
  {
   "cell_type": "code",
   "execution_count": 7,
   "id": "a2b35f14",
   "metadata": {},
   "outputs": [],
   "source": [
    "X = data[[\"experience\", \"test_scores\", \"interview_score\"]]\n",
    "y = data[[\"salary\"]]"
   ]
  },
  {
   "cell_type": "code",
   "execution_count": 8,
   "id": "8da715c1",
   "metadata": {},
   "outputs": [
    {
     "data": {
      "text/plain": [
       "<matplotlib.legend.Legend at 0x7fa73a2c38b0>"
      ]
     },
     "execution_count": 8,
     "metadata": {},
     "output_type": "execute_result"
    },
    {
     "data": {
      "image/png": "[encoded data removed]",
      "text/plain": [
       "<Figure size 432x288 with 4 Axes>"
      ]
     },
     "metadata": {
      "needs_background": "light"
     },
     "output_type": "display_data"
    }
   ],
   "source": [
    "%matplotlib inline\n",
    "\n",
    "fig, AXexp = plt.subplots()\n",
    "AXtest_score = plt.twiny(ax=AXexp)\n",
    "AXinterview_score = plt.twiny(ax=AXtest_score)\n",
    "AY_salary = plt.twiny(ax=AXinterview_score)\n",
    "\n",
    "AXexp.scatter(X[[\"experience\"]], y, color='b', alpha=0.6, marker='o', s=40, label=\"experience\")\n",
    "AXtest_score.scatter(X[[\"test_scores\"]], y, color='cyan', alpha=1, marker='+', s=40, label=\"test_scores\")\n",
    "AXinterview_score.scatter(X[[\"interview_score\"]], y, color='r', alpha=0.6, marker='*', s=40, label=\"interview_score\")\n",
    "\n",
    "AXexp.legend()\n",
    "AXinterview_score.legend()\n",
    "AXtest_score.legend()"
   ]
  },
  {
   "cell_type": "code",
   "execution_count": 9,
   "id": "4c86fddd",
   "metadata": {},
   "outputs": [
    {
     "data": {
      "text/plain": [
       "LinearRegression(normalize=True)"
      ]
     },
     "execution_count": 9,
     "metadata": {},
     "output_type": "execute_result"
    }
   ],
   "source": [
    "reg = LinearRegression(normalize=True)\n",
    "reg.fit(X, y)"
   ]
  },
  {
   "cell_type": "markdown",
   "id": "8c0a1ef1",
   "metadata": {},
   "source": [
    "### 1. Score is the opposite of cost to calculate loss do (100-score) \n",
    "### 2. coef_ is theta values or coefficient of features x1 to xn. Length of this vector is same as number of features\n",
    "### 3. y intercept is the b value"
   ]
  },
  {
   "cell_type": "code",
   "execution_count": 10,
   "id": "1aafe8bb",
   "metadata": {},
   "outputs": [
    {
     "name": "stdout",
     "output_type": "stream",
     "text": [
      "score: 0.9770139014273139\n",
      "thetas: [[2922.26901502 2221.30909959 2147.48256637]]\n",
      "y intercept/b: [14992.65144669]\n"
     ]
    }
   ],
   "source": [
    "print (\"score:\", reg.score(X, y))\n",
    "print (\"thetas:\", reg.coef_)\n",
    "print (\"y intercept/b:\", reg.intercept_)"
   ]
  },
  {
   "cell_type": "code",
   "execution_count": 11,
   "id": "cc293c49",
   "metadata": {},
   "outputs": [
    {
     "name": "stdout",
     "output_type": "stream",
     "text": [
      "2y 9ts 6is:  [[53713.86677124]]\n",
      "12y 10ts 10is: [[93747.79628651]]\n"
     ]
    }
   ],
   "source": [
    "print (\"2y 9ts 6is: \", reg.predict([[2,9,6]]))\n",
    "print (\"12y 10ts 10is:\", reg.predict([[12,10,10]]))"
   ]
  },
  {
   "cell_type": "markdown",
   "id": "2a062763",
   "metadata": {},
   "source": [
    "## Line is not overfitting it is coming like this because we are drawing it with experience as X but we trained with all the 3 features not only X"
   ]
  },
  {
   "cell_type": "code",
   "execution_count": 12,
   "id": "3f60dc72",
   "metadata": {},
   "outputs": [
    {
     "data": {
      "text/plain": [
       "[<matplotlib.lines.Line2D at 0x7fa72d0968e0>]"
      ]
     },
     "execution_count": 12,
     "metadata": {},
     "output_type": "execute_result"
    },
    {
     "data": {
      "image/png": "[encoded data removed]",
      "text/plain": [
       "<Figure size 432x288 with 5 Axes>"
      ]
     },
     "metadata": {
      "needs_background": "light"
     },
     "output_type": "display_data"
    }
   ],
   "source": [
    "%matplotlib inline\n",
    "\n",
    "fig, AXexp = plt.subplots()\n",
    "AXtest_score = plt.twiny(ax=AXexp)\n",
    "AXinterview_score = plt.twiny(ax=AXtest_score)\n",
    "AY_salary = plt.twiny(ax=AXinterview_score)\n",
    "LINE = plt.twiny(ax=AY_salary)\n",
    "\n",
    "AXexp.scatter(X[[\"experience\"]], y, color='b', alpha=0.6, marker='o', s=40, label=\"experience\")\n",
    "AXtest_score.scatter(X[[\"test_scores\"]], y, color='r', alpha=0.6, marker='+', s=40, label=\"test_scores\")\n",
    "AXinterview_score.scatter(X[[\"interview_score\"]], y, color='r', alpha=0.6, marker='*', s=40, label=\"interview_score\")\n",
    "LINE.plot(X[[\"experience\"]], reg.predict(X))"
   ]
  }
 ],
 "metadata": {
  "kernelspec": {
   "display_name": "Python 3 (ipykernel)",
   "language": "python",
   "name": "python3"
  },
  "language_info": {
   "codemirror_mode": {
    "name": "ipython",
    "version": 3
   },
   "file_extension": ".py",
   "mimetype": "text/x-python",
   "name": "python",
   "nbconvert_exporter": "python",
   "pygments_lexer": "ipython3",
   "version": "3.9.7"
  }
 },
 "nbformat": 4,
 "nbformat_minor": 5
}
