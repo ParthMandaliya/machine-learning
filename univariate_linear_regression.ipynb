{
 "cells": [
  {
   "cell_type": "code",
   "execution_count": null,
   "id": "199819a1",
   "metadata": {},
   "outputs": [],
   "source": [
    "import pandas as pd\n",
    "from sklearn.linear_model import LinearRegression\n",
    "import numpy as np\n",
    "import matplotlib.pyplot as plt"
   ]
  },
  {
   "cell_type": "code",
   "execution_count": null,
   "id": "5ce5cde0",
   "metadata": {
    "scrolled": true
   },
   "outputs": [],
   "source": [
    "data = pd.read_csv(\"canada_per_capita_income.csv\")\n",
    "# df.rename()\n",
    "data.head()"
   ]
  },
  {
   "cell_type": "code",
   "execution_count": null,
   "id": "e8c7a47a",
   "metadata": {},
   "outputs": [],
   "source": [
    "data.rename(columns={\"per capita income (US$)\": \"per_capita_income_USD\"}, inplace=True)"
   ]
  },
  {
   "cell_type": "code",
   "execution_count": null,
   "id": "e5f3e51d",
   "metadata": {
    "scrolled": true
   },
   "outputs": [],
   "source": [
    "print (\"data.shape:\", data.shape)\n",
    "X = data[['year']]\n",
    "y = data.per_capita_income_USD # data[[\"per_capita_income_USD\"]].reshape(1,-1) shape is important here\n",
    "# ones = np.ones(X.shape)\n",
    "print (\"X.shape:\", X.shape)\n",
    "print (\"y.shape:\", y.shape)\n",
    "data"
   ]
  },
  {
   "cell_type": "code",
   "execution_count": null,
   "id": "69925a08",
   "metadata": {},
   "outputs": [],
   "source": [
    "%matplotlib inline\n",
    "\n",
    "plt.xlabel('Year')\n",
    "plt.ylabel('Per capital income - Canada')\n",
    "plt.scatter(X, y, color='red', marker='+')"
   ]
  },
  {
   "cell_type": "code",
   "execution_count": null,
   "id": "17c5def1",
   "metadata": {},
   "outputs": [],
   "source": [
    "reg = LinearRegression(normalize=False)\n",
    "reg.fit(X, y)"
   ]
  },
  {
   "cell_type": "code",
   "execution_count": null,
   "id": "14d735dc",
   "metadata": {},
   "outputs": [],
   "source": [
    "print (\"score/loss/cost:\", reg.score(X, y))\n",
    "print (\"coef_/theta(s)/m:\", reg.coef_)\n",
    "print (\"y intercept/b:\", reg.intercept_)"
   ]
  },
  {
   "cell_type": "code",
   "execution_count": null,
   "id": "87186a07",
   "metadata": {},
   "outputs": [],
   "source": [
    "%matplotlib inline\n",
    "\n",
    "plt.xlabel('Year')\n",
    "plt.ylabel('Per capital income (USD) - Canada')\n",
    "plt.scatter(X, y, color='red', marker='+')\n",
    "plt.scatter(X, reg.predict(X), color='blue', marker=\"*\")"
   ]
  },
  {
   "cell_type": "code",
   "execution_count": null,
   "id": "a9d36e8a",
   "metadata": {},
   "outputs": [],
   "source": [
    "reg.predict([[2020]])\n",
    "# np.array([2020]).reshape(1,-1)"
   ]
  },
  {
   "cell_type": "code",
   "execution_count": null,
   "id": "58470eb5",
   "metadata": {},
   "outputs": [],
   "source": [
    "# y = mx + b\n",
    "# score/loss/cost: 0.890916917957032\n",
    "# coef_/theta(s): [828.46507522]\n",
    "# b: -1632210.7578554575\n",
    "\n",
    "828.46507522*2020 + -1632210.7578554575"
   ]
  }
 ],
 "metadata": {
  "kernelspec": {
   "display_name": "Python 3 (ipykernel)",
   "language": "python",
   "name": "python3"
  },
  "language_info": {
   "codemirror_mode": {
    "name": "ipython",
    "version": 3
   },
   "file_extension": ".py",
   "mimetype": "text/x-python",
   "name": "python",
   "nbconvert_exporter": "python",
   "pygments_lexer": "ipython3",
   "version": "3.9.7"
  }
 },
 "nbformat": 4,
 "nbformat_minor": 5
}
