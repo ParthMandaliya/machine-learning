{
 "cells": [
  {
   "cell_type": "code",
   "execution_count": 1,
   "id": "2408b2e3",
   "metadata": {},
   "outputs": [],
   "source": [
    "import pandas as pd\n",
    "from sklearn.linear_model import LinearRegression\n",
    "import matplotlib.pyplot as plt"
   ]
  },
  {
   "cell_type": "code",
   "execution_count": 2,
   "id": "8eb5a27f",
   "metadata": {},
   "outputs": [
    {
     "data": {
      "text/html": [
       "<div>\n",
       "<style scoped>\n",
       "    .dataframe tbody tr th:only-of-type {\n",
       "        vertical-align: middle;\n",
       "    }\n",
       "\n",
       "    .dataframe tbody tr th {\n",
       "        vertical-align: top;\n",
       "    }\n",
       "\n",
       "    .dataframe thead th {\n",
       "        text-align: right;\n",
       "    }\n",
       "</style>\n",
       "<table border=\"1\" class=\"dataframe\">\n",
       "  <thead>\n",
       "    <tr style=\"text-align: right;\">\n",
       "      <th></th>\n",
       "      <th>area</th>\n",
       "      <th>bedrooms</th>\n",
       "      <th>price</th>\n",
       "    </tr>\n",
       "  </thead>\n",
       "  <tbody>\n",
       "    <tr>\n",
       "      <th>0</th>\n",
       "      <td>1600</td>\n",
       "      <td>3</td>\n",
       "      <td>329900</td>\n",
       "    </tr>\n",
       "    <tr>\n",
       "      <th>1</th>\n",
       "      <td>2400</td>\n",
       "      <td>3</td>\n",
       "      <td>369000</td>\n",
       "    </tr>\n",
       "    <tr>\n",
       "      <th>2</th>\n",
       "      <td>1416</td>\n",
       "      <td>2</td>\n",
       "      <td>232000</td>\n",
       "    </tr>\n",
       "    <tr>\n",
       "      <th>3</th>\n",
       "      <td>3000</td>\n",
       "      <td>4</td>\n",
       "      <td>539900</td>\n",
       "    </tr>\n",
       "    <tr>\n",
       "      <th>4</th>\n",
       "      <td>1985</td>\n",
       "      <td>4</td>\n",
       "      <td>299900</td>\n",
       "    </tr>\n",
       "  </tbody>\n",
       "</table>\n",
       "</div>"
      ],
      "text/plain": [
       "   area  bedrooms   price\n",
       "0  1600         3  329900\n",
       "1  2400         3  369000\n",
       "2  1416         2  232000\n",
       "3  3000         4  539900\n",
       "4  1985         4  299900"
      ]
     },
     "execution_count": 2,
     "metadata": {},
     "output_type": "execute_result"
    }
   ],
   "source": [
    "data = pd.read_csv('ex1data2.csv')\n",
    "data.columns=[\"area\", \"bedrooms\", \"price\"]\n",
    "X = data[[\"area\", \"bedrooms\"]]\n",
    "y = data[[\"price\"]]\n",
    "data.head()"
   ]
  },
  {
   "cell_type": "code",
   "execution_count": 3,
   "id": "6ef8ad82",
   "metadata": {},
   "outputs": [
    {
     "data": {
      "text/plain": [
       "<matplotlib.legend.Legend at 0x7f31a4d9d820>"
      ]
     },
     "execution_count": 3,
     "metadata": {},
     "output_type": "execute_result"
    },
    {
     "data": {
      "image/png": "[encoded data removed]",
      "text/plain": [
       "<Figure size 432x288 with 2 Axes>"
      ]
     },
     "metadata": {
      "needs_background": "light"
     },
     "output_type": "display_data"
    }
   ],
   "source": [
    "%matplotlib inline\n",
    "\n",
    "fig, ax = plt.subplots()\n",
    "ay = plt.twiny(ax=ax)\n",
    "ax.scatter(data['area'], data['price'], color='b', marker='*', alpha=0.6, s=40, label='Area')\n",
    "ay.scatter(data['bedrooms'], data['price'], color='r', marker='+', alpha=0.6, s=40, label='Bedrooms')\n",
    "\n",
    "ay.set_xlabel(\"Bedrooms\")\n",
    "ax.set_xlabel(\"Area\")\n",
    "ax.set_ylabel(\"Price\")\n",
    "plt.title(\"Houce Prices\")\n",
    "plt.legend()"
   ]
  },
  {
   "cell_type": "code",
   "execution_count": 4,
   "id": "e0173a79",
   "metadata": {},
   "outputs": [
    {
     "data": {
      "text/plain": [
       "LinearRegression()"
      ]
     },
     "execution_count": 4,
     "metadata": {},
     "output_type": "execute_result"
    }
   ],
   "source": [
    "reg = LinearRegression()\n",
    "reg.fit(X,y)"
   ]
  },
  {
   "cell_type": "code",
   "execution_count": 5,
   "id": "f0cca050",
   "metadata": {},
   "outputs": [
    {
     "name": "stdout",
     "output_type": "stream",
     "text": [
      "score/price/cost: 0.7343207791741682\n",
      "thetas/m/slope: [[  138.75587842 -8186.38287595]]\n",
      "y intercept/b: [87807.75019324]\n"
     ]
    }
   ],
   "source": [
    "print (\"score/price/cost:\", reg.score(X, y))\n",
    "print (\"thetas/m/slope:\", reg.coef_)\n",
    "print (\"y intercept/b:\", reg.intercept_)"
   ]
  },
  {
   "cell_type": "code",
   "execution_count": 52,
   "id": "372a1753",
   "metadata": {},
   "outputs": [
    {
     "ename": "NameError",
     "evalue": "name 'lr' is not defined",
     "output_type": "error",
     "traceback": [
      "\u001b[0;31m---------------------------------------------------------------------------\u001b[0m",
      "\u001b[0;31mNameError\u001b[0m                                 Traceback (most recent call last)",
      "\u001b[0;32m/tmp/ipykernel_57629/1749588424.py\u001b[0m in \u001b[0;36m<module>\u001b[0;34m\u001b[0m\n\u001b[1;32m      1\u001b[0m \u001b[0;31m# %matplotlib inline\u001b[0m\u001b[0;34m\u001b[0m\u001b[0;34m\u001b[0m\u001b[0m\n\u001b[1;32m      2\u001b[0m \u001b[0;34m\u001b[0m\u001b[0m\n\u001b[0;32m----> 3\u001b[0;31m \u001b[0mlr\u001b[0m\u001b[0;34m.\u001b[0m\u001b[0mcoef_\u001b[0m \u001b[0;34m*\u001b[0m \u001b[0mX_train\u001b[0m\u001b[0;34m\u001b[0m\u001b[0;34m\u001b[0m\u001b[0m\n\u001b[0m\u001b[1;32m      4\u001b[0m \u001b[0;34m\u001b[0m\u001b[0m\n\u001b[1;32m      5\u001b[0m \u001b[0;31m# plot_X = data.iloc[:,:-1].to_numpy().reshape(-1, 1).T\u001b[0m\u001b[0;34m\u001b[0m\u001b[0;34m\u001b[0m\u001b[0m\n",
      "\u001b[0;31mNameError\u001b[0m: name 'lr' is not defined"
     ]
    }
   ],
   "source": [
    "# %matplotlib inline\n",
    "\n",
    "# plot_X = data.iloc[:,:-1].to_numpy().reshape(-1, 1).T\n",
    "# print ('plot_X.shape:', plot_X.shape)\n",
    "# plot_y = data['price'].to_numpy().reshape(-1,1).T\n",
    "# print ('plot_y.shape:',plot_y.shape)\n",
    "# plt.plot(plot_X, plot_y)\n",
    "\n",
    "# fig, ax = plt.subplots()\n",
    "# ay = plt.twiny(ax=ax)\n",
    "# ax.scatter(data['area'], data['price'], color='b', marker='*', alpha=0.6, s=40, label='Area')\n",
    "# ay.scatter(data['bedrooms'], data['price'], color='r', marker='+', alpha=0.6, s=40, label='Bedrooms')\n",
    "\n",
    "# az = plt.twiny(ax=ax)\n",
    "# az.plot(data['area'], (reg.coef_*X+reg.intercept_[0])['bedrooms'])\n",
    "# plt.plot(data['bedrooms'], reg.predict(X))"
   ]
  },
  {
   "cell_type": "code",
   "execution_count": 7,
   "id": "5fc81c27",
   "metadata": {},
   "outputs": [
    {
     "data": {
      "text/plain": [
       "array([[644774.70195621]])"
      ]
     },
     "execution_count": 7,
     "metadata": {},
     "output_type": "execute_result"
    }
   ],
   "source": [
    "reg.predict([[4250, 4]])"
   ]
  },
  {
   "cell_type": "code",
   "execution_count": null,
   "id": "8585fd7c",
   "metadata": {},
   "outputs": [],
   "source": [
    "# y = theta.transpose * X\n",
    "# y = theta0*x1 + theta1 * x2 \n",
    "\n",
    "# score/price/cost: 0.7343207791741682\n",
    "# thetas/m/slope: [[  138.75587842 -8186.38287595]]\n",
    "# y intercept/b: [87807.75019324]\n",
    "\n",
    "138.75587842*4250 + -8186.38287595*4 + 87807.75019324"
   ]
  },
  {
   "cell_type": "code",
   "execution_count": null,
   "id": "ce737efd",
   "metadata": {},
   "outputs": [],
   "source": []
  }
 ],
 "metadata": {
  "kernelspec": {
   "display_name": "Python 3 (ipykernel)",
   "language": "python",
   "name": "python3"
  },
  "language_info": {
   "codemirror_mode": {
    "name": "ipython",
    "version": 3
   },
   "file_extension": ".py",
   "mimetype": "text/x-python",
   "name": "python",
   "nbconvert_exporter": "python",
   "pygments_lexer": "ipython3",
   "version": "3.9.7"
  }
 },
 "nbformat": 4,
 "nbformat_minor": 5
}
