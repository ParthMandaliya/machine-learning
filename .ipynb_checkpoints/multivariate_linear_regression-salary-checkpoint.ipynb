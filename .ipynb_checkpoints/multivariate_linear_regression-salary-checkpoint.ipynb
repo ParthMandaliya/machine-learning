{
 "cells": [
  {
   "cell_type": "code",
   "execution_count": null,
   "id": "a4bf4c8f",
   "metadata": {
    "scrolled": false
   },
   "outputs": [
    {
     "name": "stdout",
     "output_type": "stream",
     "text": [
      "Requirement already satisfied: pandas in /home/parth/anaconda3/lib/python3.9/site-packages (from -r requirements.txt (line 1)) (1.3.4)\n",
      "Collecting pandas\n",
      "  Downloading pandas-1.3.5-cp39-cp39-manylinux_2_17_x86_64.manylinux2014_x86_64.whl (11.5 MB)\n",
      "\u001b[K     |████████████████████████████████| 11.5 MB 1.4 MB/s eta 0:00:01\n",
      "\u001b[?25hRequirement already satisfied: numpy in /home/parth/anaconda3/lib/python3.9/site-packages (from -r requirements.txt (line 2)) (1.20.3)\n",
      "Collecting numpy\n",
      "  Downloading numpy-1.21.5-cp39-cp39-manylinux_2_12_x86_64.manylinux2010_x86_64.whl (15.7 MB)\n",
      "\u001b[K     |██████████████████              | 8.8 MB 2.1 MB/s eta 0:00:04     |██████████████▎                 | 7.0 MB 913 kB/s eta 0:00:10"
     ]
    }
   ],
   "source": [
    "!python3 -m pip install --upgrade -r requirements.txt"
   ]
  },
  {
   "cell_type": "code",
   "execution_count": null,
   "id": "2408b2e3",
   "metadata": {},
   "outputs": [],
   "source": [
    "import pandas as pd\n",
    "import numpy as np\n",
    "from sklearn.linear_model import LinearRegression\n",
    "import matplotlib.pyplot as plt\n",
    "from word2number import w2n\n",
    "import math"
   ]
  },
  {
   "cell_type": "code",
   "execution_count": null,
   "id": "8eb5a27f",
   "metadata": {},
   "outputs": [],
   "source": [
    "data = pd.read_csv('hiring.csv')\n",
    "data.columns = [\"experience\", \"test_scores\", \"interview_score\", \"salary\"]\n",
    "data.head()"
   ]
  },
  {
   "cell_type": "markdown",
   "id": "8678ddf9",
   "metadata": {},
   "source": [
    "## Use the following line of code to substitute empty values in experience with it's mean\n",
    "`data.experience = data.experience.fillna( math.floor( data.experience.mean() ) )`"
   ]
  },
  {
   "cell_type": "code",
   "execution_count": null,
   "id": "ae168e99",
   "metadata": {},
   "outputs": [],
   "source": [
    "data.experience = data.experience.fillna('zero')\n",
    "data"
   ]
  },
  {
   "cell_type": "code",
   "execution_count": null,
   "id": "2fa1c991",
   "metadata": {},
   "outputs": [],
   "source": [
    "data.experience = data.experience.map(w2n.word_to_num, na_action='ignore')\n",
    "data.test_scores = data.test_scores.fillna( math.floor( data.test_scores.mean() ) )\n",
    "data"
   ]
  },
  {
   "cell_type": "code",
   "execution_count": null,
   "id": "a2b35f14",
   "metadata": {},
   "outputs": [],
   "source": [
    "X = data[[\"experience\", \"test_scores\", \"interview_score\"]]\n",
    "y = data[[\"salary\"]]"
   ]
  },
  {
   "cell_type": "code",
   "execution_count": null,
   "id": "8da715c1",
   "metadata": {},
   "outputs": [],
   "source": [
    "%matplotlib inline\n",
    "\n",
    "fig, AXexp = plt.subplots()\n",
    "AXtest_score = plt.twiny(ax=AXexp)\n",
    "AXinterview_score = plt.twiny(ax=AXtest_score)\n",
    "AY_salary = plt.twiny(ax=AXinterview_score)\n",
    "\n",
    "AXexp.scatter(X[[\"experience\"]], y, color='b', alpha=0.6, marker='o', s=40, label=\"experience\")\n",
    "AXtest_score.scatter(X[[\"test_scores\"]], y, color='cyan', alpha=1, marker='+', s=40, label=\"test_scores\")\n",
    "AXinterview_score.scatter(X[[\"interview_score\"]], y, color='r', alpha=0.6, marker='*', s=40, label=\"interview_score\")\n",
    "\n",
    "AXexp.legend()\n",
    "AXinterview_score.legend()\n",
    "AXtest_score.legend()"
   ]
  },
  {
   "cell_type": "code",
   "execution_count": null,
   "id": "4c86fddd",
   "metadata": {},
   "outputs": [],
   "source": [
    "reg = LinearRegression(normalize=True)\n",
    "reg.fit(X, y)"
   ]
  },
  {
   "cell_type": "code",
   "execution_count": null,
   "id": "1aafe8bb",
   "metadata": {},
   "outputs": [],
   "source": [
    "print (\"score/price/cost:\", reg.score(X, y))\n",
    "print (\"thetas/m/slope:\", reg.coef_)\n",
    "print (\"y intercept/b:\", reg.intercept_)"
   ]
  },
  {
   "cell_type": "code",
   "execution_count": null,
   "id": "cc293c49",
   "metadata": {},
   "outputs": [],
   "source": [
    "print (\"2y 9ts 6is: \", reg.predict([[2,9,6]]))\n",
    "print (\"12y 10ts 10is:\", reg.predict([[12,10,10]]))"
   ]
  },
  {
   "cell_type": "markdown",
   "id": "2a062763",
   "metadata": {},
   "source": [
    "## Line is not overfitting it is coming like this because we are drawing it with experience as X but we trained with all the 3 features not only X"
   ]
  },
  {
   "cell_type": "code",
   "execution_count": null,
   "id": "3f60dc72",
   "metadata": {},
   "outputs": [],
   "source": [
    "%matplotlib inline\n",
    "\n",
    "fig, AXexp = plt.subplots()\n",
    "AXtest_score = plt.twiny(ax=AXexp)\n",
    "AXinterview_score = plt.twiny(ax=AXtest_score)\n",
    "AY_salary = plt.twiny(ax=AXinterview_score)\n",
    "LINE = plt.twiny(ax=AY_salary)\n",
    "\n",
    "AXexp.scatter(X[[\"experience\"]], y, color='b', alpha=0.6, marker='o', s=40, label=\"experience\")\n",
    "AXtest_score.scatter(X[[\"test_scores\"]], y, color='r', alpha=0.6, marker='+', s=40, label=\"test_scores\")\n",
    "AXinterview_score.scatter(X[[\"interview_score\"]], y, color='r', alpha=0.6, marker='*', s=40, label=\"interview_score\")\n",
    "LINE.plot(X[[\"experience\"]], reg.predict(X))"
   ]
  }
 ],
 "metadata": {
  "kernelspec": {
   "display_name": "Python 3 (ipykernel)",
   "language": "python",
   "name": "python3"
  },
  "language_info": {
   "codemirror_mode": {
    "name": "ipython",
    "version": 3
   },
   "file_extension": ".py",
   "mimetype": "text/x-python",
   "name": "python",
   "nbconvert_exporter": "python",
   "pygments_lexer": "ipython3",
   "version": "3.9.7"
  }
 },
 "nbformat": 4,
 "nbformat_minor": 5
}
