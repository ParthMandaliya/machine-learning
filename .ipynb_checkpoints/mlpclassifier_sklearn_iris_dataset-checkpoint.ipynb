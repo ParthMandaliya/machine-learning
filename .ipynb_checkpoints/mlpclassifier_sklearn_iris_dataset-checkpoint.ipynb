{
 "cells": [
  {
   "cell_type": "code",
   "execution_count": 1,
   "id": "a1653b5d",
   "metadata": {},
   "outputs": [],
   "source": [
    "from sklearn.datasets import load_iris\n",
    "from sklearn.preprocessing import StandardScaler\n",
    "from sklearn.model_selection import train_test_split\n",
    "from sklearn.neural_network import MLPClassifier\n",
    "import matplotlib.pyplot as plt\n",
    "import pandas as pd"
   ]
  },
  {
   "cell_type": "code",
   "execution_count": 2,
   "id": "a5b307ac",
   "metadata": {},
   "outputs": [],
   "source": [
    "dataset = load_iris()"
   ]
  },
  {
   "cell_type": "code",
   "execution_count": 3,
   "id": "36e6bfc5",
   "metadata": {
    "scrolled": true
   },
   "outputs": [],
   "source": [
    "# print (dataset.DESCR)"
   ]
  },
  {
   "cell_type": "markdown",
   "id": "208b30e2",
   "metadata": {},
   "source": [
    "## Preparing StandardScaler"
   ]
  },
  {
   "cell_type": "markdown",
   "id": "995230ec",
   "metadata": {},
   "source": [
    "## Don't scale y value\n",
    "## y is only going to be number of class needs to be classified"
   ]
  },
  {
   "cell_type": "code",
   "execution_count": 4,
   "id": "5488b4a1",
   "metadata": {},
   "outputs": [],
   "source": [
    "scaler = StandardScaler(copy=True, with_mean=True, with_std=False)\n",
    "data = scaler.fit_transform(dataset.data)"
   ]
  },
  {
   "cell_type": "markdown",
   "id": "12073438",
   "metadata": {},
   "source": [
    "## Split the data into train and test dataset, 20% dataset for testing"
   ]
  },
  {
   "cell_type": "code",
   "execution_count": 5,
   "id": "77bce323",
   "metadata": {},
   "outputs": [],
   "source": [
    "X_train, X_test, y_train, y_test = train_test_split(data, dataset.target, test_size=0.4, random_state=100, shuffle=True)"
   ]
  },
  {
   "cell_type": "code",
   "execution_count": 6,
   "id": "446c12ab",
   "metadata": {},
   "outputs": [
    {
     "name": "stdout",
     "output_type": "stream",
     "text": [
      "X_train.shape: (90, 4)\n",
      "X_test.shape: (60, 4)\n",
      "y_train.shape: (90, 1)\n",
      "y_test.shape: (60, 1)\n"
     ]
    }
   ],
   "source": [
    "X_train = pd.DataFrame(X_train, columns=dataset.feature_names)\n",
    "X_test = pd.DataFrame(X_test, columns=dataset.feature_names)\n",
    "y_train = pd.DataFrame(y_train, columns=['_'.join(dataset.target_names)])\n",
    "y_test = pd.DataFrame(y_test, columns=['_'.join(dataset.target_names)])\n",
    "\n",
    "print (f\"X_train.shape: {X_train.shape}\")\n",
    "print (f\"X_test.shape: {X_test.shape}\")\n",
    "print (f\"y_train.shape: {y_train.shape}\")\n",
    "print (f\"y_test.shape: {y_test.shape}\")"
   ]
  },
  {
   "cell_type": "code",
   "execution_count": 7,
   "id": "7181bec1",
   "metadata": {},
   "outputs": [
    {
     "data": {
      "text/html": [
       "<div>\n",
       "<style scoped>\n",
       "    .dataframe tbody tr th:only-of-type {\n",
       "        vertical-align: middle;\n",
       "    }\n",
       "\n",
       "    .dataframe tbody tr th {\n",
       "        vertical-align: top;\n",
       "    }\n",
       "\n",
       "    .dataframe thead th {\n",
       "        text-align: right;\n",
       "    }\n",
       "</style>\n",
       "<table border=\"1\" class=\"dataframe\">\n",
       "  <thead>\n",
       "    <tr style=\"text-align: right;\">\n",
       "      <th></th>\n",
       "      <th>sepal length (cm)</th>\n",
       "      <th>sepal width (cm)</th>\n",
       "      <th>petal length (cm)</th>\n",
       "      <th>petal width (cm)</th>\n",
       "    </tr>\n",
       "  </thead>\n",
       "  <tbody>\n",
       "    <tr>\n",
       "      <th>0</th>\n",
       "      <td>-0.043333</td>\n",
       "      <td>-0.357333</td>\n",
       "      <td>0.142</td>\n",
       "      <td>0.000667</td>\n",
       "    </tr>\n",
       "    <tr>\n",
       "      <th>1</th>\n",
       "      <td>-1.243333</td>\n",
       "      <td>0.542667</td>\n",
       "      <td>-2.758</td>\n",
       "      <td>-0.999333</td>\n",
       "    </tr>\n",
       "    <tr>\n",
       "      <th>2</th>\n",
       "      <td>1.056667</td>\n",
       "      <td>0.042667</td>\n",
       "      <td>1.642</td>\n",
       "      <td>0.900667</td>\n",
       "    </tr>\n",
       "    <tr>\n",
       "      <th>3</th>\n",
       "      <td>0.856667</td>\n",
       "      <td>0.242667</td>\n",
       "      <td>1.942</td>\n",
       "      <td>0.900667</td>\n",
       "    </tr>\n",
       "    <tr>\n",
       "      <th>4</th>\n",
       "      <td>0.456667</td>\n",
       "      <td>-0.257333</td>\n",
       "      <td>1.342</td>\n",
       "      <td>0.300667</td>\n",
       "    </tr>\n",
       "  </tbody>\n",
       "</table>\n",
       "</div>"
      ],
      "text/plain": [
       "   sepal length (cm)  sepal width (cm)  petal length (cm)  petal width (cm)\n",
       "0          -0.043333         -0.357333              0.142          0.000667\n",
       "1          -1.243333          0.542667             -2.758         -0.999333\n",
       "2           1.056667          0.042667              1.642          0.900667\n",
       "3           0.856667          0.242667              1.942          0.900667\n",
       "4           0.456667         -0.257333              1.342          0.300667"
      ]
     },
     "execution_count": 7,
     "metadata": {},
     "output_type": "execute_result"
    }
   ],
   "source": [
    "X_train.head()"
   ]
  },
  {
   "cell_type": "code",
   "execution_count": 8,
   "id": "b1b65479",
   "metadata": {},
   "outputs": [
    {
     "data": {
      "text/html": [
       "<div>\n",
       "<style scoped>\n",
       "    .dataframe tbody tr th:only-of-type {\n",
       "        vertical-align: middle;\n",
       "    }\n",
       "\n",
       "    .dataframe tbody tr th {\n",
       "        vertical-align: top;\n",
       "    }\n",
       "\n",
       "    .dataframe thead th {\n",
       "        text-align: right;\n",
       "    }\n",
       "</style>\n",
       "<table border=\"1\" class=\"dataframe\">\n",
       "  <thead>\n",
       "    <tr style=\"text-align: right;\">\n",
       "      <th></th>\n",
       "      <th>setosa_versicolor_virginica</th>\n",
       "    </tr>\n",
       "  </thead>\n",
       "  <tbody>\n",
       "    <tr>\n",
       "      <th>0</th>\n",
       "      <td>1</td>\n",
       "    </tr>\n",
       "    <tr>\n",
       "      <th>1</th>\n",
       "      <td>0</td>\n",
       "    </tr>\n",
       "    <tr>\n",
       "      <th>2</th>\n",
       "      <td>2</td>\n",
       "    </tr>\n",
       "    <tr>\n",
       "      <th>3</th>\n",
       "      <td>2</td>\n",
       "    </tr>\n",
       "    <tr>\n",
       "      <th>4</th>\n",
       "      <td>2</td>\n",
       "    </tr>\n",
       "  </tbody>\n",
       "</table>\n",
       "</div>"
      ],
      "text/plain": [
       "   setosa_versicolor_virginica\n",
       "0                            1\n",
       "1                            0\n",
       "2                            2\n",
       "3                            2\n",
       "4                            2"
      ]
     },
     "execution_count": 8,
     "metadata": {},
     "output_type": "execute_result"
    }
   ],
   "source": [
    "y_train.head()"
   ]
  },
  {
   "cell_type": "markdown",
   "id": "db25d1cf",
   "metadata": {},
   "source": [
    "## Using MLPClassifier (MultiLayer Perceptron) with StandardScalar and L2 Regularization"
   ]
  },
  {
   "cell_type": "code",
   "execution_count": 9,
   "id": "93a70577",
   "metadata": {},
   "outputs": [],
   "source": [
    "# hidden_layer_sizes, \n",
    "# activation [logistic (sigmoid), relu, tanh]\n",
    "# solver [lbfgs, sgd]\n",
    "# alpha (L2) default: 1e-4\n",
    "# learning_rate default: constant -> adaptive\n",
    "# learning_rate_init: 1e-3 -> 1e-2\n",
    "# max_iter = 200\n",
    "# tol default 1e-4\n",
    "# verbose -> True\n",
    "# momentum 0.9\n",
    "# validation_fraction -> False\n",
    "# n_iter_no_change default: 10\n",
    "\n",
    "# clf = MLPClassifier(hidden_layer_sizes=(10,10), activation='relu', solver='lbfgs', alpha=1e-4, \\\n",
    "#               learning_rate='adaptive', learning_rate_init=1e-4, max_iter=400, tol=1e-6, verbose=False, \\\n",
    "#               momentum=0.9, validation_fraction=0.0, n_iter_no_change=5, random_state=20)\n",
    "\n",
    "clf = MLPClassifier(hidden_layer_sizes=(15,15), activation='relu', solver='lbfgs', alpha=1e-3, \\\n",
    "              learning_rate='adaptive', learning_rate_init=1e-4, max_iter=400, tol=1e-4, verbose=False, \\\n",
    "              momentum=0.9, validation_fraction=0.0, n_iter_no_change=10, random_state=20)\n",
    "\n",
    "# This gives 1.0 test accuracy without using StandardScalar\n",
    "# clf = MLPClassifier(hidden_layer_sizes=(15,15), activation='relu', solver='lbfgs', alpha=1e-4, \\\n",
    "#               learning_rate='adaptive', learning_rate_init=1e-3, max_iter=400, tol=1e-4, verbose=False, \\\n",
    "#               momentum=0.9, validation_fraction=0.0, n_iter_no_change=10, random_state=20)\n",
    "\n",
    "# clf = MLPClassifier(hidden_layer_sizes=(15,15), activation='logistic', solver='adam', alpha=1e-4, \\\n",
    "#               learning_rate='adaptive', learning_rate_init=1e-3, max_iter=400, tol=1e-4, verbose=False, \\\n",
    "#               momentum=0.9, validation_fraction=0.0, n_iter_no_change=10, random_state=20)\n",
    "\n",
    "# ## This gives the almost same accuracy but with 800 iterations\n",
    "# clf = MLPClassifier(hidden_layer_sizes=(15,15), activation='tanh', solver='sgd', alpha=1e-4, \\\n",
    "#               learning_rate='adaptive', learning_rate_init=1e-3, max_iter=1800, tol=1e-4, verbose=False, \\\n",
    "#               momentum=0.9, validation_fraction=0.0, n_iter_no_change=10, random_state=20)"
   ]
  },
  {
   "cell_type": "markdown",
   "id": "71c83031",
   "metadata": {},
   "source": [
    "## Though we have set max_iter to 400 due to default value of tol (tolerance) set to 0.0001 (1e-4) as soon as the decrease in the cost function is less than 1e-4 for ```n_iter_no_change=10``` consicutive iterations, trains stops"
   ]
  },
  {
   "cell_type": "code",
   "execution_count": 10,
   "id": "6b9e2871",
   "metadata": {},
   "outputs": [
    {
     "data": {
      "text/plain": [
       "MLPClassifier(alpha=0.001, hidden_layer_sizes=(15, 15),\n",
       "              learning_rate='adaptive', learning_rate_init=0.0001, max_iter=400,\n",
       "              random_state=20, solver='lbfgs', validation_fraction=0.0)"
      ]
     },
     "execution_count": 10,
     "metadata": {},
     "output_type": "execute_result"
    }
   ],
   "source": [
    "clf.fit(X_train, y_train.iloc[:,0])"
   ]
  },
  {
   "cell_type": "code",
   "execution_count": 11,
   "id": "63e9fc79",
   "metadata": {},
   "outputs": [
    {
     "name": "stdout",
     "output_type": "stream",
     "text": [
      "Training accuracy: 1.0\n",
      "Testing accuracy: 0.9833333333333333\n",
      "Iterations ran: 204\n",
      "loss_: 0.0010233063613244412\n"
     ]
    }
   ],
   "source": [
    "print (f\"Training accuracy: {clf.score(X_train, y_train.iloc[:,0])}\")\n",
    "print (f\"Testing accuracy: {clf.score(X_test, y_test.iloc[:,0])}\")\n",
    "print (f\"Iterations ran: {clf.n_iter_}\")\n",
    "print (f\"loss_: {clf.loss_}\")\n",
    "# print (f\"best_loss_: {clf.best_loss_}\")"
   ]
  },
  {
   "cell_type": "code",
   "execution_count": 12,
   "id": "bc963700",
   "metadata": {},
   "outputs": [],
   "source": [
    "from sklearn.metrics import confusion_matrix\n",
    "from sklearn.metrics import ConfusionMatrixDisplay"
   ]
  },
  {
   "cell_type": "code",
   "execution_count": 13,
   "id": "51628cb2",
   "metadata": {
    "scrolled": true
   },
   "outputs": [],
   "source": [
    "y_pred = clf.predict(X_test)\n",
    "cm = confusion_matrix(y_test, y_pred)"
   ]
  },
  {
   "cell_type": "code",
   "execution_count": 14,
   "id": "6fe8fa81",
   "metadata": {},
   "outputs": [
    {
     "data": {
      "text/plain": [
       "<sklearn.metrics._plot.confusion_matrix.ConfusionMatrixDisplay at 0x7ff5067fa040>"
      ]
     },
     "execution_count": 14,
     "metadata": {},
     "output_type": "execute_result"
    },
    {
     "data": {
      "image/png": "[encoded data removed]",
      "text/plain": [
       "<Figure size 432x288 with 2 Axes>"
      ]
     },
     "metadata": {
      "needs_background": "light"
     },
     "output_type": "display_data"
    }
   ],
   "source": [
    "ConfusionMatrixDisplay(confusion_matrix=cm, display_labels=clf.classes_).plot()"
   ]
  },
  {
   "cell_type": "code",
   "execution_count": 15,
   "id": "afe676c4",
   "metadata": {},
   "outputs": [],
   "source": [
    "from sklearn.metrics import precision_recall_fscore_support"
   ]
  },
  {
   "cell_type": "code",
   "execution_count": 16,
   "id": "da6c851c",
   "metadata": {},
   "outputs": [
    {
     "name": "stdout",
     "output_type": "stream",
     "text": [
      "average='micro': (0.9833333333333333, 0.9833333333333333, 0.9833333333333333, None)\n",
      "average=macro: (0.9861111111111112, 0.9777777777777779, 0.9814135485448765, None)\n",
      "average=weighted: (0.9840277777777778, 0.9833333333333333, 0.9832232819760333, None)\n"
     ]
    }
   ],
   "source": [
    "weighted = precision_recall_fscore_support(y_test, y_pred, average='weighted')\n",
    "macro = precision_recall_fscore_support(y_test, y_pred, average='macro')\n",
    "micro = precision_recall_fscore_support(y_test, y_pred, average='micro')\n",
    "print (f\"average='micro': {micro}\")\n",
    "print (f\"average=macro: {macro}\")\n",
    "print (f\"average=weighted: {weighted}\")"
   ]
  }
 ],
 "metadata": {
  "kernelspec": {
   "display_name": "Python 3 (ipykernel)",
   "language": "python",
   "name": "python3"
  },
  "language_info": {
   "codemirror_mode": {
    "name": "ipython",
    "version": 3
   },
   "file_extension": ".py",
   "mimetype": "text/x-python",
   "name": "python",
   "nbconvert_exporter": "python",
   "pygments_lexer": "ipython3",
   "version": "3.9.7"
  }
 },
 "nbformat": 4,
 "nbformat_minor": 5
}
